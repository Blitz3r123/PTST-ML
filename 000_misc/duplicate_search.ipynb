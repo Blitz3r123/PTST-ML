{
 "cells": [
  {
   "attachments": {},
   "cell_type": "markdown",
   "metadata": {},
   "source": [
    "# Introduction\n",
    "\n",
    "This notebook takes in a path to a dataset csv file and checks for duplicating rows.\n",
    "\n",
    "---"
   ]
  },
  {
   "cell_type": "code",
   "execution_count": 8,
   "metadata": {},
   "outputs": [
    {
     "name": "stdout",
     "output_type": "stream",
     "text": [
      "There are 1509 rows.\n",
      "\n",
      "Empty DataFrame\n",
      "Columns: [duration_secs, datalen_bytes, pub_count, sub_count, reliable, multicast, durability_0, durability_1, durability_2, durability_3, latency_count, total_total_samples_mean, total_total_samples_std, total_total_samples_min, total_total_samples_max, total_total_samples_1, total_total_samples_2, total_total_samples_5, total_total_samples_10, total_total_samples_20, total_total_samples_25, total_total_samples_30, total_total_samples_40, total_total_samples_50, total_total_samples_60, total_total_samples_70, total_total_samples_75, total_total_samples_80, total_total_samples_90, total_total_samples_95, total_total_samples_99, total_samples_per_sec_mean, total_samples_per_sec_std, total_samples_per_sec_min, total_samples_per_sec_max, total_samples_per_sec_1, total_samples_per_sec_2, total_samples_per_sec_5, total_samples_per_sec_10, total_samples_per_sec_20, total_samples_per_sec_25, total_samples_per_sec_30, total_samples_per_sec_40, total_samples_per_sec_50, total_samples_per_sec_60, total_samples_per_sec_70, total_samples_per_sec_75, total_samples_per_sec_80, total_samples_per_sec_90, total_samples_per_sec_95, total_samples_per_sec_99, total_mbps_mean, total_mbps_std, total_mbps_min, total_mbps_max, total_mbps_1, total_mbps_2, total_mbps_5, total_mbps_10, total_mbps_20, total_mbps_25, total_mbps_30, total_mbps_40, total_mbps_50, total_mbps_60, total_mbps_70, total_mbps_75, total_mbps_80, total_mbps_90, total_mbps_95, total_mbps_99, total_lost_samples_mean, total_lost_samples_std, total_lost_samples_min, total_lost_samples_max, total_lost_samples_1, total_lost_samples_2, total_lost_samples_5, total_lost_samples_10, total_lost_samples_20, total_lost_samples_25, total_lost_samples_30, total_lost_samples_40, total_lost_samples_50, total_lost_samples_60, total_lost_samples_70, total_lost_samples_75, total_lost_samples_80, total_lost_samples_90, total_lost_samples_95, total_lost_samples_99, total_lost_samples_percent_mean, total_lost_samples_percent_std, total_lost_samples_percent_min, total_lost_samples_percent_max, total_lost_samples_percent_1, total_lost_samples_percent_2, total_lost_samples_percent_5, total_lost_samples_percent_10, total_lost_samples_percent_20, ...]\n",
      "Index: []\n",
      "\n",
      "[0 rows x 151 columns]\n"
     ]
    }
   ],
   "source": [
    "import os\n",
    "from pprint import pprint\n",
    "from loguru import logger\n",
    "from icecream import ic\n",
    "import pandas as pd\n",
    "\n",
    "filepath = \"/Users/kaleem/Google Drive/My Drive/Colab Notebooks/datasets/2023-09-28_combined_qos_capture_rcg_ps_dataset.csv\"\n",
    "\n",
    "if not os.path.exists(filepath):\n",
    "    logger.warning(\"File not found\")\n",
    "\n",
    "\n",
    "df = pd.read_csv(filepath)\n",
    "\n",
    "print(f\"There are {len(df.index)} rows.\\n\")\n",
    "\n",
    "duplicate_rows = df[df.duplicated()]\n",
    "print(duplicate_rows)"
   ]
  }
 ],
 "metadata": {
  "kernelspec": {
   "display_name": "Python 3",
   "language": "python",
   "name": "python3"
  },
  "language_info": {
   "codemirror_mode": {
    "name": "ipython",
    "version": 3
   },
   "file_extension": ".py",
   "mimetype": "text/x-python",
   "name": "python",
   "nbconvert_exporter": "python",
   "pygments_lexer": "ipython3",
   "version": "3.11.5"
  },
  "orig_nbformat": 4
 },
 "nbformat": 4,
 "nbformat_minor": 2
}
